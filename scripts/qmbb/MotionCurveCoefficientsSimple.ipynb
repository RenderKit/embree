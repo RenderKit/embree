{
 "cells": [
  {
   "cell_type": "code",
   "execution_count": 9,
   "metadata": {},
   "outputs": [],
   "source": [
    "import sympy as sp\n",
    "\n",
    "t, theta = sp.symbols(\"t, theta\", real = True)\n",
    "\n",
    "px, py, pz = sp.symbols(\"px, py, pz\", real=True) \n",
    "\n",
    "tx0, ty0, tz0 = sp.symbols(\"tx0, ty0, tz0\", real=True) \n",
    "tx1, ty1, tz1 = sp.symbols(\"tx1, ty1, tz1\", real=True) \n",
    "\n",
    "qx0, qy0, qz0, qw0 = sp.symbols(\"qx0, qy0, qz0, qw0\", real=True) \n",
    "qx1, qy1, qz1, qw1 = sp.symbols(\"qx1, qy1, qz1, qw1\", real=True) \n",
    "\n",
    "s000, s001, s002, s010, s011, s012, s020, s021, s022 = sp.symbols(\"s000, s001, s002, s010, s011, s012, s020, s021, s022\", real=True)\n",
    "s100, s101, s102, s110, s111, s112, s120, s121, s122 = sp.symbols(\"s100, s101, s102, s110, s111, s112, s120, s121, s122\", real=True)\n",
    "\n",
    "def lerp(v0,v1,t):\n",
    "    return v0*(1-t)+v1*t\n",
    "\n",
    "# assuming that q1 is qperp = normalize(q1-q2*cosTheta)\n",
    "def slerp(q0, q1, t):\n",
    "    return q0 * sp.cos(t*theta) + q1 * sp.sin(t*theta)\n",
    "\n",
    "def to_rotation_matrix(q):\n",
    "    return sp.Matrix([[q.a*q.a + q.b*q.b - q.c*q.c - q.d*q.d, 2*(q.b*q.c - q.a*q.d),                 2*(q.b*q.d + q.a*q.c),                 0], \n",
    "                      [2*(q.b*q.c + q.a*q.d),                 q.a*q.a - q.b*q.b + q.c*q.c - q.d*q.d, 2*(q.c*q.d - q.a*q.b),                 0], \n",
    "                      [2*(q.b*q.d - q.a*q.c),                 2*(q.c*q.d + q.a*q.b),                 q.a*q.a - q.b*q.b - q.c*q.c + q.d*q.d, 0],\n",
    "                      [0,                                     0,                                     0,                                     1]])\n",
    "\n",
    "q0 = sp.Quaternion(qw0, qx0, qy0, qz0)\n",
    "q1 = sp.Quaternion(qw1, qx1, qy1, qz1)\n",
    "qt = slerp(q0, q1, t)\n",
    "S0 = sp.Matrix([[s000, s001, s002, 0],\n",
    "                [s010, s011, s012, 0],\n",
    "                [s020, s021, s022, 0],\n",
    "                [   0,    0,    0, 1]])\n",
    "S1 = sp.Matrix([[s100, s101, s102, 0],\n",
    "                [s110, s111, s112, 0],\n",
    "                [s120, s121, s122, 0],\n",
    "                [   0,    0,    0, 1]])\n",
    "St = lerp(S0, S1, t)\n",
    "D0 = sp.Matrix([[1, 0, 0, tx0],\n",
    "                [0, 1, 0, ty0],\n",
    "                [0, 0, 1, tz0],\n",
    "                [0, 0, 0,  1]])\n",
    "D1 = sp.Matrix([[1, 0, 0, tx1],\n",
    "                [0, 1, 0, ty1],\n",
    "                [0, 0, 1, tz1],\n",
    "                [0, 0, 0,  1]])\n",
    "Dt = lerp(D0, D1, t)\n",
    "p = sp.Matrix([px, py, pz, 1])\n",
    "\n",
    "\n",
    "M = Dt*to_rotation_matrix(qt)*St*p\n",
    "m0 = M[0]"
   ]
  },
  {
   "cell_type": "code",
   "execution_count": 10,
   "metadata": {},
   "outputs": [],
   "source": [
    "dm0 = sp.diff(m0, t)\n",
    "dm0 = sp.expand(dm0)\n",
    "\n",
    "dm0 = dm0.subs(sp.sin(t*theta)*sp.sin(t*theta),(1-sp.cos(2*t*theta))/2) # remove sin(t*theta)^2\n",
    "dm0 = dm0.subs(sp.cos(t*theta)*sp.cos(t*theta),(1+sp.cos(2*t*theta))/2) # remove cos(t*theta)^2\n",
    "dm0 = dm0.subs(sp.sin(t*theta)*sp.cos(t*theta),sp.sin(2*t*theta)/2)     # remove sin(t*theta)*cos(t*theta)\n",
    "dm0 = sp.expand(dm0)\n",
    "\n",
    "dm0_cos_sin = sp.collect(dm0, (sp.sin(2*t*theta), sp.cos(2*t*theta)), evaluate=False)\n",
    "\n",
    "coeff_const = dm0_cos_sin[1]\n",
    "coeff_sin   = dm0_cos_sin[sp.sin(2*t*theta)]\n",
    "coeff_cos   = dm0_cos_sin[sp.cos(2*t*theta)]\n",
    "\n",
    "coeff_sin_t = sp.collect(coeff_sin, t, evaluate=False)\n",
    "coeff_cos_t = sp.collect(coeff_cos, t, evaluate=False)\n",
    "c0 = coeff_const\n",
    "c1 = coeff_cos_t[1]\n",
    "c2 = coeff_cos_t[t]\n",
    "c3 = coeff_sin_t[1]\n",
    "c4 = coeff_sin_t[t]"
   ]
  },
  {
   "cell_type": "code",
   "execution_count": 11,
   "metadata": {},
   "outputs": [
    {
     "data": {
      "text/latex": [
       "$\\displaystyle - qw_{0} qy_{0} s_{020} + qw_{0} qy_{0} s_{120} + qw_{0} qz_{0} s_{010} - qw_{0} qz_{0} s_{110} - qw_{1} qy_{1} s_{020} + qw_{1} qy_{1} s_{120} + qw_{1} qz_{1} s_{010} - qw_{1} qz_{1} s_{110} - qx_{0} qy_{0} s_{010} + qx_{0} qy_{0} s_{110} - qx_{0} qz_{0} s_{020} + qx_{0} qz_{0} s_{120} - qx_{1} qy_{1} s_{010} + qx_{1} qy_{1} s_{110} - qx_{1} qz_{1} s_{020} + qx_{1} qz_{1} s_{120} + qy_{0}^{2} s_{000} - qy_{0}^{2} s_{100} + qy_{1}^{2} s_{000} - qy_{1}^{2} s_{100} + qz_{0}^{2} s_{000} - qz_{0}^{2} s_{100} + qz_{1}^{2} s_{000} - qz_{1}^{2} s_{100} - s_{000} + s_{100}$"
      ],
      "text/plain": [
       "-qw0*qy0*s020 + qw0*qy0*s120 + qw0*qz0*s010 - qw0*qz0*s110 - qw1*qy1*s020 + qw1*qy1*s120 + qw1*qz1*s010 - qw1*qz1*s110 - qx0*qy0*s010 + qx0*qy0*s110 - qx0*qz0*s020 + qx0*qz0*s120 - qx1*qy1*s010 + qx1*qy1*s110 - qx1*qz1*s020 + qx1*qz1*s120 + qy0**2*s000 - qy0**2*s100 + qy1**2*s000 - qy1**2*s100 + qz0**2*s000 - qz0**2*s100 + qz1**2*s000 - qz1**2*s100 - s000 + s100"
      ]
     },
     "execution_count": 11,
     "metadata": {},
     "output_type": "execute_result"
    }
   ],
   "source": [
    "kc0 = sp.collect(c0, (px, py, pz), evaluate=False)\n",
    "kc0 = [kc0[1], kc0[px], kc0[py], kc0[pz]]\n",
    "for i in range(4):\n",
    "    kc0[i] = sp.expand(kc0[i])\n",
    "    kc0[i] = kc0[i].subs(qw0*qw0, 1-qx0*qx0-qy0*qy0-qz0*qz0)\n",
    "    kc0[i] = kc0[i].subs(qw1*qw1, 1-qx1*qx1-qy1*qy1-qz1*qz1)\n",
    "    kc0[i] = sp.simplify(kc0[i])\n",
    "kc0[1]"
   ]
  },
  {
   "cell_type": "code",
   "execution_count": 12,
   "metadata": {},
   "outputs": [
    {
     "data": {
      "text/latex": [
       "$\\displaystyle 2 qw_{0} qw_{1} s_{002} \\theta - qw_{0} qy_{0} s_{022} + qw_{0} qy_{0} s_{122} + 2 qw_{0} qy_{1} s_{022} \\theta + qw_{0} qz_{0} s_{012} - qw_{0} qz_{0} s_{112} - 2 qw_{0} qz_{1} s_{012} \\theta + 2 qw_{1} qy_{0} s_{022} \\theta + qw_{1} qy_{1} s_{022} - qw_{1} qy_{1} s_{122} - 2 qw_{1} qz_{0} s_{012} \\theta - qw_{1} qz_{1} s_{012} + qw_{1} qz_{1} s_{112} + 2 qx_{0} qx_{1} s_{002} \\theta - qx_{0} qy_{0} s_{012} + qx_{0} qy_{0} s_{112} + 2 qx_{0} qy_{1} s_{012} \\theta - qx_{0} qz_{0} s_{022} + qx_{0} qz_{0} s_{122} + 2 qx_{0} qz_{1} s_{022} \\theta + 2 qx_{1} qy_{0} s_{012} \\theta + qx_{1} qy_{1} s_{012} - qx_{1} qy_{1} s_{112} + 2 qx_{1} qz_{0} s_{022} \\theta + qx_{1} qz_{1} s_{022} - qx_{1} qz_{1} s_{122} + qy_{0}^{2} s_{002} - qy_{0}^{2} s_{102} - 2 qy_{0} qy_{1} s_{002} \\theta - qy_{1}^{2} s_{002} + qy_{1}^{2} s_{102} + qz_{0}^{2} s_{002} - qz_{0}^{2} s_{102} - 2 qz_{0} qz_{1} s_{002} \\theta - qz_{1}^{2} s_{002} + qz_{1}^{2} s_{102}$"
      ],
      "text/plain": [
       "2*qw0*qw1*s002*theta - qw0*qy0*s022 + qw0*qy0*s122 + 2*qw0*qy1*s022*theta + qw0*qz0*s012 - qw0*qz0*s112 - 2*qw0*qz1*s012*theta + 2*qw1*qy0*s022*theta + qw1*qy1*s022 - qw1*qy1*s122 - 2*qw1*qz0*s012*theta - qw1*qz1*s012 + qw1*qz1*s112 + 2*qx0*qx1*s002*theta - qx0*qy0*s012 + qx0*qy0*s112 + 2*qx0*qy1*s012*theta - qx0*qz0*s022 + qx0*qz0*s122 + 2*qx0*qz1*s022*theta + 2*qx1*qy0*s012*theta + qx1*qy1*s012 - qx1*qy1*s112 + 2*qx1*qz0*s022*theta + qx1*qz1*s022 - qx1*qz1*s122 + qy0**2*s002 - qy0**2*s102 - 2*qy0*qy1*s002*theta - qy1**2*s002 + qy1**2*s102 + qz0**2*s002 - qz0**2*s102 - 2*qz0*qz1*s002*theta - qz1**2*s002 + qz1**2*s102"
      ]
     },
     "execution_count": 12,
     "metadata": {},
     "output_type": "execute_result"
    }
   ],
   "source": [
    "kc1 = sp.collect(c1, (px, py, pz), evaluate=False)\n",
    "kc1 = [0, kc1[px], kc1[py], kc1[pz]]\n",
    "for i in range(4):\n",
    "    kc1[i] = sp.expand(kc1[i])\n",
    "    kc1[i] = kc1[i].subs(qw0*qw0, 1-qx0*qx0-qy0*qy0-qz0*qz0)\n",
    "    kc1[i] = kc1[i].subs(qw1*qw1, 1-qx1*qx1-qy1*qy1-qz1*qz1)\n",
    "    kc1[i] = sp.simplify(kc1[i])\n",
    "kc1[3]"
   ]
  },
  {
   "cell_type": "code",
   "execution_count": null,
   "metadata": {},
   "outputs": [],
   "source": []
  }
 ],
 "metadata": {
  "kernelspec": {
   "display_name": "Python 3 (ipykernel)",
   "language": "python",
   "name": "python3"
  },
  "language_info": {
   "codemirror_mode": {
    "name": "ipython",
    "version": 3
   },
   "file_extension": ".py",
   "mimetype": "text/x-python",
   "name": "python",
   "nbconvert_exporter": "python",
   "pygments_lexer": "ipython3",
   "version": "3.10.10"
  }
 },
 "nbformat": 4,
 "nbformat_minor": 4
}
